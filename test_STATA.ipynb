{
 "cells": [
  {
   "cell_type": "code",
   "execution_count": 1,
   "metadata": {},
   "outputs": [],
   "source": [
    "import ipystata"
   ]
  },
  {
   "cell_type": "code",
   "execution_count": 10,
   "metadata": {},
   "outputs": [
    {
     "name": "stdout",
     "output_type": "stream",
     "text": [
      "\n",
      "Contains data from db.dta\n",
      "  obs:       161,022                          \n",
      " vars:            48                          4 Dec 2016 16:08\n",
      " size:   120,283,434                          \n",
      "------------------------------------------------------------------------------------------------------\n",
      "              storage  display     value\n",
      "variable name   type   format      label      variable label\n",
      "------------------------------------------------------------------------------------------------------\n",
      "ord             float  %9.0g                  \n",
      "year            float  %9.0g                  \n",
      "rnddate         float  %td                    round date\n",
      "firmname        str60  %60s                   VC firm name\n",
      "comname         str60  %60s                   Company name\n",
      "rndamt_dis      double %10.0g                 Round Amount disclosed ($ thou)\n",
      "rndamt_est      double %10.0g                 Round Amount estimated ($ thou)\n",
      "rnd_no          byte   %10.0g                 Round Number\n",
      "rndstage1       str18  %18s                   Company Stage Level 1\n",
      "rndstage2       str14  %14s                   Company Stage Level 2\n",
      "rndstage3       str20  %20s                   Company Stage Level 3\n",
      "comid           str6   %9s                    \n",
      "firmid          str5   %9s                    \n",
      "firmfnddate     str10  %10s                   date_fnd\n",
      "firmcity        str22  %22s                   firmcity\n",
      "firmcounty      str23  %23s                   firmcounty\n",
      "firmmsacode     int    %10.0g                 firmmsacode\n",
      "firmmsa         str40  %40s                   firmmsa\n",
      "firmstate       str14  %14s                   firmstate\n",
      "firmstatecode   str2   %9s                    firmstatecode\n",
      "firmzipcode     long   %10.0g                 firmzipcode\n",
      "date_ipo        str10  %10s                   date_ipo\n",
      "comfnddate      str10  %10s                   date_fnd\n",
      "date_sit        str10  %10s                   date_sit\n",
      "areacode        str3   %9s                    areacode\n",
      "comcity         str22  %22s                   comcity\n",
      "comsitu         str24  %24s                   comsitu\n",
      "comcounty       str24  %24s                   comcounty\n",
      "comipo          str1   %9s                    comipo\n",
      "comregion       str20  %20s                   comregion\n",
      "commsa          str40  %40s                   commsa\n",
      "commsacode      str4   %9s                    commsacode\n",
      "comstate        str14  %14s                   comstate\n",
      "comind          str27  %27s                   comind\n",
      "comindmjr       str27  %27s                   comindmjr\n",
      "comindmnr       str30  %30s                   comindmnr\n",
      "comindsub1      str20  %20s                   comindsub1\n",
      "comindsub2      str40  %40s                   comindsub2\n",
      "comindsub3      str50  %50s                   comindsub3\n",
      "comzip          str5   %9s                    comzip\n",
      "comestacode     str2   %9s                    comestacode\n",
      "date_ipo2       float  %9.0g                  \n",
      "comid_yr        str11  %11s                   \n",
      "ipo_use         float  %9.0g                  \n",
      "defunct         float  %9.0g                  \n",
      "success         float  %9.0g                  \n",
      "failure         float  %9.0g                  \n",
      "active          float  %9.0g                  \n",
      "------------------------------------------------------------------------------------------------------\n",
      "Sorted by:  \n",
      "\n"
     ]
    }
   ],
   "source": [
    "%%stata\n",
    "clear all\n",
    "set more off\n",
    "quietly: ~/use\n",
    "\n",
    "use db, clear\n",
    "\n",
    "describe\n",
    "\n",
    "/*\n",
    "keep year\n",
    "save test, replace\n",
    "*/"
   ]
  },
  {
   "cell_type": "markdown",
   "metadata": {},
   "source": [
    "ipystata라는 라이브러리를 활용 할 경우 stata의 dofile을 그대로 실현시킬 수 있다. \n",
    "save 과정까지 가능하다는 것을 확인하였다.\n",
    "\n",
    "다만, python library를 통하여 해당 함수가 대신 해주는 것을 의미하기 때문에 Variable Inspector를 통하여 변수가 나오는지 등은 측정을 할 수 없다. 아마 display 등을 통하여 data가 제대로 되고 있는지를 봐야 할 것 같다."
   ]
  },
  {
   "cell_type": "code",
   "execution_count": null,
   "metadata": {},
   "outputs": [],
   "source": []
  }
 ],
 "metadata": {
  "kernelspec": {
   "display_name": "Python 3",
   "language": "python",
   "name": "python3"
  },
  "language_info": {
   "codemirror_mode": {
    "name": "ipython",
    "version": 3
   },
   "file_extension": ".py",
   "mimetype": "text/x-python",
   "name": "python",
   "nbconvert_exporter": "python",
   "pygments_lexer": "ipython3",
   "version": "3.6.4"
  },
  "varInspector": {
   "cols": {
    "lenName": 16,
    "lenType": 16,
    "lenVar": 40
   },
   "kernels_config": {
    "python": {
     "delete_cmd_postfix": "",
     "delete_cmd_prefix": "del ",
     "library": "var_list.py",
     "varRefreshCmd": "print(var_dic_list())"
    },
    "r": {
     "delete_cmd_postfix": ") ",
     "delete_cmd_prefix": "rm(",
     "library": "var_list.r",
     "varRefreshCmd": "cat(var_dic_list()) "
    }
   },
   "position": {
    "height": "265px",
    "left": "1078.89px",
    "right": "20px",
    "top": "120px",
    "width": "323px"
   },
   "types_to_exclude": [
    "module",
    "function",
    "builtin_function_or_method",
    "instance",
    "_Feature"
   ],
   "window_display": true
  }
 },
 "nbformat": 4,
 "nbformat_minor": 2
}
